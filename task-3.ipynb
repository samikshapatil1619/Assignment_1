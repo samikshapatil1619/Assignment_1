{
 "cells": [
  {
   "cell_type": "code",
   "execution_count": 35,
   "metadata": {},
   "outputs": [
    {
     "data": {
      "text/plain": [
       "97"
      ]
     },
     "execution_count": 35,
     "metadata": {},
     "output_type": "execute_result"
    }
   ],
   "source": [
    "def find_max(num):\n",
    "    for i in num:\n",
    "        return max(num)\n",
    "num=[42,35,78,17,35,97,36,0,25]\n",
    "find_max(num)"
   ]
  },
  {
   "cell_type": "code",
   "execution_count": 36,
   "metadata": {},
   "outputs": [
    {
     "name": "stdout",
     "output_type": "stream",
     "text": [
      "20\n"
     ]
    }
   ],
   "source": [
    "def sum(a):\n",
    "    b=0\n",
    "    for i in range(len(a)):\n",
    "        b=b+a[i]\n",
    "    print(b)\n",
    "a=[8,2,3,0,7]\n",
    "sum(a)"
   ]
  },
  {
   "cell_type": "code",
   "execution_count": 37,
   "metadata": {},
   "outputs": [
    {
     "name": "stdout",
     "output_type": "stream",
     "text": [
      "[1, 2, 3, 4, 5]\n"
     ]
    }
   ],
   "source": [
    "def find_unique_elements(input_list):\n",
    "    unique_list = []\n",
    "    for item in input_list:\n",
    "        if item not in unique_list:\n",
    "            unique_list.append(item)\n",
    "    return unique_list\n",
    "\n",
    "sample_list = [1, 2, 3, 3, 3, 3, 4, 5]\n",
    "result = find_unique_elements(sample_list)\n",
    "print(result)"
   ]
  },
  {
   "cell_type": "code",
   "execution_count": 38,
   "metadata": {},
   "outputs": [
    {
     "name": "stdout",
     "output_type": "stream",
     "text": [
      "count of vowels : 3\n",
      "count of consonant : 7\n"
     ]
    }
   ],
   "source": [
    "def vowel_and_constant(n):\n",
    "    count1 = 0\n",
    "    count2 = 0\n",
    "    vowel = set(\"aeiouAEIOU\")\n",
    "    for alphabet in n:\n",
    "        if alphabet in vowel:\n",
    "            count1 = count1 + 1\n",
    "        elif alphabet not in vowel:\n",
    "            count2=count2+1\n",
    "     \n",
    "    print(\"count of vowels :\", count1)\n",
    "    print(\"count of consonant :\", count2)\n",
    "\n",
    "vowel_and_constant(\"statistics\")"
   ]
  },
  {
   "cell_type": "code",
   "execution_count": 39,
   "metadata": {},
   "outputs": [
    {
     "name": "stdout",
     "output_type": "stream",
     "text": [
      "STATISTICS\n"
     ]
    }
   ],
   "source": [
    "def upper_case(a):\n",
    "    print(a.upper())\n",
    "upper_case(\"statistics\")"
   ]
  }
 ],
 "metadata": {
  "kernelspec": {
   "display_name": "Python 3",
   "language": "python",
   "name": "python3"
  },
  "language_info": {
   "codemirror_mode": {
    "name": "ipython",
    "version": 3
   },
   "file_extension": ".py",
   "mimetype": "text/x-python",
   "name": "python",
   "nbconvert_exporter": "python",
   "pygments_lexer": "ipython3",
   "version": "3.11.5"
  },
  "orig_nbformat": 4
 },
 "nbformat": 4,
 "nbformat_minor": 2
}
