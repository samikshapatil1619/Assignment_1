{
 "cells": [
  {
   "cell_type": "code",
   "execution_count": 29,
   "metadata": {},
   "outputs": [
    {
     "name": "stdout",
     "output_type": "stream",
     "text": [
      "*\n",
      "**\n",
      "***\n"
     ]
    }
   ],
   "source": [
    "def star(row):\n",
    "    for i in range(1,row+1):\n",
    "        print(\"*\"*i)\n",
    "\n",
    "star(3)"
   ]
  },
  {
   "cell_type": "code",
   "execution_count": 30,
   "metadata": {},
   "outputs": [
    {
     "name": "stdout",
     "output_type": "stream",
     "text": [
      "4\n"
     ]
    }
   ],
   "source": [
    "def power(base, num):\n",
    "    result = base ** num\n",
    "    print(result)\n",
    "\n",
    "power(2,2)"
   ]
  },
  {
   "cell_type": "code",
   "execution_count": 31,
   "metadata": {},
   "outputs": [
    {
     "name": "stdout",
     "output_type": "stream",
     "text": [
      "samiksha\n",
      "samiksha\n",
      "samiksha\n",
      "samiksha\n",
      "samiksha\n",
      "samiksha\n",
      "samiksha\n",
      "samiksha\n",
      "samiksha\n",
      "samiksha\n",
      "samiksha\n",
      "samiksha\n",
      "samiksha\n",
      "samiksha\n",
      "samiksha\n",
      "samiksha\n",
      "samiksha\n",
      "samiksha\n",
      "samiksha\n",
      "samiksha\n",
      "samiksha\n",
      "samiksha\n",
      "samiksha\n",
      "samiksha\n",
      "samiksha\n",
      "samiksha\n",
      "samiksha\n",
      "samiksha\n",
      "samiksha\n",
      "samiksha\n",
      "samiksha\n",
      "samiksha\n",
      "samiksha\n",
      "samiksha\n",
      "samiksha\n"
     ]
    }
   ],
   "source": [
    "def name(times):\n",
    "    for _ in range(times):\n",
    "        print(\"samiksha\")\n",
    "\n",
    "name(35)"
   ]
  },
  {
   "cell_type": "code",
   "execution_count": 32,
   "metadata": {},
   "outputs": [
    {
     "name": "stdout",
     "output_type": "stream",
     "text": [
      "24\n"
     ]
    }
   ],
   "source": [
    "def mult(a,b,c):\n",
    "    result= a*b*c\n",
    "    print(result)\n",
    "\n",
    "\n",
    "mult(2,3,4)"
   ]
  },
  {
   "cell_type": "code",
   "execution_count": 33,
   "metadata": {},
   "outputs": [
    {
     "name": "stdout",
     "output_type": "stream",
     "text": [
      "[20, 21, 22, 23, 24, 25, 26, 27, 28, 29, 30, 31, 32, 33, 34, 35, 36, 37, 38, 39, 40, 41, 42, 43, 44, 45, 46, 47, 48, 49, 50, 51, 52, 53, 54, 55, 56]\n"
     ]
    }
   ],
   "source": [
    "def create_list(start, end):\n",
    "    if start > end:\n",
    "        return []\n",
    "    else:\n",
    "        print( list(range(start, end + 1)))\n",
    "\n",
    "create_list(20,56)"
   ]
  },
  {
   "cell_type": "code",
   "execution_count": 34,
   "metadata": {},
   "outputs": [
    {
     "data": {
      "text/plain": [
       "6"
      ]
     },
     "execution_count": 34,
     "metadata": {},
     "output_type": "execute_result"
    }
   ],
   "source": [
    "def fact(n):\n",
    "    if n==0 | n==1:\n",
    "        return 1\n",
    "    else:\n",
    "        return(n* fact(n-1))\n",
    "    print(fact(n))\n",
    "\n",
    "fact(3)"
   ]
  },
  {
   "cell_type": "code",
   "execution_count": 35,
   "metadata": {},
   "outputs": [
    {
     "name": "stdout",
     "output_type": "stream",
     "text": [
      "512\n"
     ]
    }
   ],
   "source": [
    "def cube(num):\n",
    "    result = num ** 3\n",
    "    print(result)\n",
    "\n",
    "cube(8)"
   ]
  },
  {
   "cell_type": "code",
   "execution_count": 36,
   "metadata": {},
   "outputs": [
    {
     "name": "stdout",
     "output_type": "stream",
     "text": [
      "32\n"
     ]
    }
   ],
   "source": [
    "def add(number):\n",
    "    a=0\n",
    "    for i in number:\n",
    "        if i % 2 ==0:\n",
    "           a=a+i\n",
    "    print(a)\n",
    "number=[1,2,3,4,5,6,7,8,9,1,2,3,4,5,6]\n",
    "\n",
    "add(number)"
   ]
  }
 ],
 "metadata": {
  "kernelspec": {
   "display_name": "Python 3",
   "language": "python",
   "name": "python3"
  },
  "language_info": {
   "codemirror_mode": {
    "name": "ipython",
    "version": 3
   },
   "file_extension": ".py",
   "mimetype": "text/x-python",
   "name": "python",
   "nbconvert_exporter": "python",
   "pygments_lexer": "ipython3",
   "version": "3.11.5"
  },
  "orig_nbformat": 4
 },
 "nbformat": 4,
 "nbformat_minor": 2
}
